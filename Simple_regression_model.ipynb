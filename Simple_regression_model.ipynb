{
 "cells": [
  {
   "cell_type": "markdown",
   "metadata": {},
   "source": [
    "# Practice : computing simple regression parameters (closed form example)"
   ]
  },
  {
   "cell_type": "code",
   "execution_count": 9,
   "metadata": {},
   "outputs": [],
   "source": [
    "import numpy as np\n",
    "import matplotlib.pyplot as plt"
   ]
  },
  {
   "cell_type": "markdown",
   "metadata": {},
   "source": [
    "## data"
   ]
  },
  {
   "cell_type": "code",
   "execution_count": 6,
   "metadata": {},
   "outputs": [
    {
     "name": "stdout",
     "output_type": "stream",
     "text": [
      "[0 1 2 3 4]\n",
      "[ 1  3  7 13 21]\n"
     ]
    }
   ],
   "source": [
    "X = np.array([0,1,2,3,4]) # inputs\n",
    "Y = np.array([1,3,7,13,21]) # outputs\n",
    "print(X)\n",
    "print(Y)"
   ]
  },
  {
   "cell_type": "markdown",
   "metadata": {},
   "source": [
    "## data plot"
   ]
  },
  {
   "cell_type": "code",
   "execution_count": 11,
   "metadata": {},
   "outputs": [
    {
     "data": {
      "text/plain": [
       "[<matplotlib.lines.Line2D at 0x7f45fe1531d0>]"
      ]
     },
     "execution_count": 11,
     "metadata": {},
     "output_type": "execute_result"
    },
    {
     "data": {
      "image/png": "[encoded data removed]",
      "text/plain": [
       "<Figure size 432x288 with 1 Axes>"
      ]
     },
     "metadata": {
      "needs_background": "light"
     },
     "output_type": "display_data"
    }
   ],
   "source": [
    "plt.scatter(X,Y)\n",
    "plt.plot(X,Y)"
   ]
  },
  {
   "cell_type": "markdown",
   "metadata": {},
   "source": [
    "## Model that fit the data\n",
    "Since we just have one input, we can assume that our model is linear. $Y=w_0 + w_1X$ with error $\\epsilon$ <br>\n",
    "where $w_0$ is the intercept and $w_1$ the slope <br>\n",
    "the error $\\epsilon$ represent the difference between the reel output $Y_i$ and the extimate output $\\hat{Y_i}$ $\\epsilon = Y_i - \\hat{Y_i}(\\hat{w_0},\\hat{w_1})$: <br>\n",
    "for a data $X_i$, we have $Y_i= \\hat{w_0} + \\hat{w_1}X_i + \\epsilon_i$"
   ]
  },
  {
   "cell_type": "markdown",
   "metadata": {},
   "source": [
    "## How to find the best line which fit our training data ? : an optimization problem\n",
    "This line is the one that minimize the error on each training data. Let us us the $\\textbf{Residual Sum of Square} (RSS)$ method to estimate the paramters $\\hat{w_0}$ and $\\hat{w_1}$ of that line. <br>\n",
    "So we have to fine $w_0$ and $w_1$ such that : $\\min(RSS(w_0,w_1)=\\sum_{i=1}^{N} (Y_i - [w_0 + w_1 X_i])^2)$ <br>\n",
    "Since this RSS function is convex, the have a minimun and we have to deduce the parameter at this points."
   ]
  },
  {
   "cell_type": "markdown",
   "metadata": {},
   "source": [
    "## Gradient descent algorithm\n",
    "Let $f(w_0,w_1)=RSS(w_0,w_1)=\\sum_{i=1}^{N} (Y_i - [w_0 + w_1 X_i])^2$ <br>\n",
    "this function reach thier minimun value when $f'(w_,w_0$. So the optimal (best) parameter of $f$ are obtain for solving $f'(w_0,w_1)=0$ <br>\n",
    "since $f$ is a function of two variable we talk about gradient and $ f'(w_0,w_1)= \\nabla f(w_0,w_1)  = \\left[ \\frac{\\partial f}{\\partial w_0}, \\frac{\\partial f}{\\partial w_1} \\right]$ <br>\n",
    "\n",
    "\n",
    "### parameter estimation\n",
    "We have : <br>\n",
    "$\\nabla f(w_0,w_1)=0 \\Rightarrow \\left[ -2 \\sum_{i=1}^{N} (Y_i - [w_0 + w_1 X_i]), -2 \\sum_{i=1}^{N} (Y_i - [w_0 + w_1 X_i])X_i \\right] =0 \\tag{1}$ <br>\n",
    "$\\frac{\\partial f}{\\partial w_0} = -2 \\sum_{i=1}^{N} (Y_i - [w_0 + w_1 X_i]) = 0 \\tag{2}$ <br>\n",
    "$\\frac{\\partial f}{\\partial w_1} = -2 \\sum_{i=1}^{N} (Y_i - [w_0 + w_1 X_i])X_i = 0 \\tag{3}$ <br>\n",
    "\n",
    "After a lot of work, solving $(2)$ and $(3)$ for $w_0$ and $w_1$ we obtain : <br>\n",
    "$\\hat{w_0}= \\left[ \\frac{\\sum_{i=1}^{N}Y_i}{N} - \\hat{w_1} \\frac{\\sum_{i=1}^{N}X_i}{N}  \\right] \\tag{4}$ <br> \n",
    "and <br>\n",
    "$ \\hat{w_1} = \\left[ \\frac{\\sum_{i=1}^{N}X_i Y_i- \\frac{\\sum_{i=1}^{N}X_i \\sum_{i=1}^{N}Y_i}{N}}{\\sum_{i=1}^{N}X^2_i - \\frac{\\sum_{i=1}^{N}X_i \\sum_{i=1}^{N}X_i}{N}} \\right] \\tag{5}$"
   ]
  },
  {
   "cell_type": "markdown",
   "metadata": {},
   "source": [
    "## Parameters computation"
   ]
  },
  {
   "cell_type": "code",
   "execution_count": 68,
   "metadata": {},
   "outputs": [
    {
     "name": "stdout",
     "output_type": "stream",
     "text": [
      "Sum X =  10\n",
      "Sum Y =  45\n",
      "Sum X*Y =  140\n",
      "Sum X*X =  100\n",
      "Num =  50.0\n",
      "den =  10.0\n",
      "slope W_1 =  5.0\n"
     ]
    }
   ],
   "source": [
    "N = X.size\n",
    "# estimate w_1\n",
    "Xsum = X.sum(); print('Sum X = ',Xsum)\n",
    "Ysum = Y.sum(); print('Sum Y = ',Ysum)\n",
    "XYsum = (X*Y).sum(); print('Sum X*Y = ', XYsum)\n",
    "XXsum = (X*X).sum()\n",
    "XsumXsum = Xsum*Xsum; print('Sum X*X = ', XsumXsum)\n",
    "XsumYsum = (Xsum)*(Ysum)\n",
    "\n",
    "num = (XYsum - ((Xsum)*(Ysum))/N); print('Num = ',num)\n",
    "den = (XXsum) - ((XsumXsum)/N); print('den = ',den)\n",
    "w1 = (num)/(den)\n",
    "print('slope W_1 = ', w1)"
   ]
  },
  {
   "cell_type": "code",
   "execution_count": 69,
   "metadata": {},
   "outputs": [
    {
     "name": "stdout",
     "output_type": "stream",
     "text": [
      "intercept w_0 =  -1.0\n"
     ]
    }
   ],
   "source": [
    "# intercept\n",
    "w0 = (Ysum)/N - w1*((Xsum)/N)\n",
    "print('intercept w_0 = ', w0)"
   ]
  },
  {
   "cell_type": "markdown",
   "metadata": {},
   "source": [
    "# plot "
   ]
  },
  {
   "cell_type": "code",
   "execution_count": 79,
   "metadata": {},
   "outputs": [
    {
     "data": {
      "text/plain": [
       "[<matplotlib.lines.Line2D at 0x7f45fdcba390>]"
      ]
     },
     "execution_count": 79,
     "metadata": {},
     "output_type": "execute_result"
    },
    {
     "data": {
      "image/png": "[encoded data removed]",
      "text/plain": [
       "<Figure size 432x288 with 1 Axes>"
      ]
     },
     "metadata": {
      "needs_background": "light"
     },
     "output_type": "display_data"
    }
   ],
   "source": [
    "prediction = w0 + w1*X\n",
    "plt.scatter(X,Y)\n",
    "plt.plot(X,prediction)"
   ]
  },
  {
   "cell_type": "code",
   "execution_count": null,
   "metadata": {},
   "outputs": [],
   "source": []
  },
  {
   "cell_type": "code",
   "execution_count": null,
   "metadata": {},
   "outputs": [],
   "source": []
  }
 ],
 "metadata": {
  "kernelspec": {
   "display_name": "Python 3",
   "language": "python",
   "name": "python3"
  },
  "language_info": {
   "codemirror_mode": {
    "name": "ipython",
    "version": 3
   },
   "file_extension": ".py",
   "mimetype": "text/x-python",
   "name": "python",
   "nbconvert_exporter": "python",
   "pygments_lexer": "ipython3",
   "version": "3.7.3"
  }
 },
 "nbformat": 4,
 "nbformat_minor": 2
}
