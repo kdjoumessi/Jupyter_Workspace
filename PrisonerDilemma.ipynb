{
 "cells": [
  {
   "cell_type": "code",
   "execution_count": null,
   "metadata": {},
   "outputs": [],
   "source": [
    "# AIMS-Group - Distributed Coordinate\n",
    "# @by Kerol-Thabang-Oratile-Hlogi "
   ]
  },
  {
   "cell_type": "code",
   "execution_count": 8,
   "metadata": {},
   "outputs": [],
   "source": [
    "def game():\n",
    "    strategies_list = []\n",
    "    my_score = 0\n",
    "    player_B_score = 0\n",
    "    j = 0\n",
    "    \n",
    "    print(\"### Welcome to Dilemme Game \")\n",
    "    print(\"Only possible strategie C = Cooperate and D = Defect \")\n",
    "    print(\"The computer plays first\")\n",
    "    print(\"[C,C]=[1,1], [C,D]=[6,0], [D,C]=[0,6], [D,D]=[4,4]\")\n",
    "    \n",
    "    while(True):\n",
    "        try : \n",
    "            n = input(\"Enter the number of round \")\n",
    "            n = int(n)\n",
    "            break\n",
    "        except:\n",
    "            print(\"Entre a real value\")\n",
    "        \n",
    "    if(n<1):\n",
    "        print(\"error value\")\n",
    "        return\n",
    "    \n",
    "    for i in range(n):\n",
    "        if(i==j):\n",
    "            me = \"C\"\n",
    "        else :\n",
    "            me = \"D\"\n",
    "            \n",
    "        while(True):\n",
    "            player_B_value = input(\"Enter your strategy  \")\n",
    "            if(player_B_value == \"C\" or player_B_value == \"D\"):\n",
    "                break\n",
    "        L = [me, player_B_value]\n",
    "        if(me == player_B_value == \"D\"):\n",
    "            my_score = my_score + 4\n",
    "            player_B_score = player_B_score + 4\n",
    "        elif (me == player_B_value == \"C\"):\n",
    "            my_score = my_score + 1\n",
    "            player_B_score = player_B_score + 1\n",
    "        elif (me == \"D\" and player_B_value == \"C\"):\n",
    "            my_score = my_score + 0\n",
    "            player_B_score = player_B_score + 6\n",
    "        else : \n",
    "            my_score = my_score + 6\n",
    "            player_B_score = player_B_score + 0\n",
    "            \n",
    "        strategies_list.append(L)\n",
    "        \n",
    "    print(\"list of strategies during the game \", strategies_list)\n",
    "    print(\"Score computer = \",my_score, \"Score Player B = \", player_B_score)\n",
    "    \n",
    "    if(my_score == player_B_score):\n",
    "        print(\"Draw Game\")\n",
    "    elif (my_score < player_B_score) :\n",
    "        print(\"Computer Won\")\n",
    "    else : \n",
    "        print(\"You are the Winner\")\n",
    "        \n",
    "    print(\"## thanks for your participation ##\")\n",
    "    "
   ]
  },
  {
   "cell_type": "code",
   "execution_count": 9,
   "metadata": {},
   "outputs": [
    {
     "name": "stdout",
     "output_type": "stream",
     "text": [
      "### Welcome to Dilemme Game \n",
      "Only possible strategie C = Cooperate and D = Defect \n",
      "The computer plays first\n",
      "[C,C]=[1,1], [C,D]=[6,0], [D,C]=[0,6], [D,D]=[4,4]\n",
      "Enter the number of round 2\n",
      "Enter your strategy  D\n",
      "Enter your strategy  D\n",
      "list of strategies during the game  [['C', 'D'], ['D', 'D']]\n",
      "Score computer =  10 Score Player B =  4\n",
      "You are the Winner\n",
      "## thanks for your participation ##\n"
     ]
    }
   ],
   "source": [
    "game()"
   ]
  }
 ],
 "metadata": {
  "kernelspec": {
   "display_name": "Python 3",
   "language": "python",
   "name": "python3"
  },
  "language_info": {
   "codemirror_mode": {
    "name": "ipython",
    "version": 3
   },
   "file_extension": ".py",
   "mimetype": "text/x-python",
   "name": "python",
   "nbconvert_exporter": "python",
   "pygments_lexer": "ipython3",
   "version": "3.7.3"
  }
 },
 "nbformat": 4,
 "nbformat_minor": 2
}
