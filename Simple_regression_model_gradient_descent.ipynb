{
 "cells": [
  {
   "cell_type": "code",
   "execution_count": 1,
   "metadata": {},
   "outputs": [],
   "source": [
    "#@ author : DJOUMESSI Kerol\n",
    "# AIMS-SA"
   ]
  },
  {
   "cell_type": "markdown",
   "metadata": {},
   "source": [
    "# Practice : computing simple regression parameters (gradient descent example)"
   ]
  },
  {
   "cell_type": "code",
   "execution_count": 139,
   "metadata": {},
   "outputs": [],
   "source": [
    "import numpy as np\n",
    "import matplotlib.pyplot as plt\n",
    "import math "
   ]
  },
  {
   "cell_type": "markdown",
   "metadata": {},
   "source": [
    "# Data"
   ]
  },
  {
   "cell_type": "code",
   "execution_count": 140,
   "metadata": {},
   "outputs": [],
   "source": [
    "X = np.array([0,1,2,3,4]) # inputs\n",
    "Y = np.array([1,3,7,13,21]) # outputs"
   ]
  },
  {
   "cell_type": "code",
   "execution_count": 141,
   "metadata": {},
   "outputs": [
    {
     "data": {
      "text/plain": [
       "<matplotlib.collections.PathCollection at 0x7f49bb4e6860>"
      ]
     },
     "execution_count": 141,
     "metadata": {},
     "output_type": "execute_result"
    },
    {
     "data": {
      "image/png": "[encoded data removed]",
      "text/plain": [
       "<Figure size 432x288 with 1 Axes>"
      ]
     },
     "metadata": {
      "needs_background": "light"
     },
     "output_type": "display_data"
    }
   ],
   "source": [
    "plt.scatter(X,Y)"
   ]
  },
  {
   "cell_type": "markdown",
   "metadata": {},
   "source": [
    "## Gradient descent algorithm\n",
    "Let use the gradient descent algorithm to minimize the residual sum of square in order to find $w_0$ and $w_1$. <br>\n",
    "Let $g(w_0,w_1)=RSS(w_0,w_1)=\\sum_{i=1}^{N} (Y_i - [w_0 + w_1 X_i])^2 \\tag{1}$ <br>\n",
    "$\\nabla g(w_0,w_1) = \\left[ \\frac{\\partial g}{\\partial w_0}, \\frac{\\partial g}{\\partial w_1} \\right]$\n",
    "$\\frac{\\partial f}{\\partial w_0} = -2 \\sum_{i=1}^{N} (Y_i - [w_0 + w_1 X_i])  \\tag{2}$ <br>\n",
    "$\\frac{\\partial f}{\\partial w_1} = -2 \\sum_{i=1}^{N} (Y_i - [w_0 + w_1 X_i])X_i \\tag{3}$ <br>\n",
    "\n",
    "### Algortihm for finding $\\bar{w_0}$ and $\\bar{w_1}$\n",
    "initialisation (initial_intercept, initial_slope, step_size, tolerance) <br>\n",
    "while not converge <br>\n",
    "$\\hspace{1cm}$ $[w^t_0, w^t_1] \\leftarrow [w^t_0, w^t_1] - \\eta \\nabla g(w_0,w_1)$"
   ]
  },
  {
   "cell_type": "markdown",
   "metadata": {},
   "source": [
    "## Algorithm implementation"
   ]
  },
  {
   "cell_type": "code",
   "execution_count": 171,
   "metadata": {},
   "outputs": [],
   "source": [
    "intercep = 0\n",
    "slope = 0\n",
    "\n",
    "step_size = 0.05\n",
    "tolerance = 0.01\n",
    "def Prediction():\n",
    "    w0 = intercep\n",
    "    w1 = slope\n",
    "    step = step_size\n",
    "    tol = tolerance\n",
    "    \n",
    "    while(True):\n",
    "        L = []\n",
    "        # compute the predicted value given the current slope and intercept\n",
    "        predict = np.array(w0 + w1*X)\n",
    "        #print('predict = ', predict)\n",
    "\n",
    "        predict_error = predict - Y   \n",
    "        #print('prediction error = ', predict_error)\n",
    "\n",
    "        # update intercept\n",
    "        a = predict_error.sum()\n",
    "        #print(a)\n",
    "        ajustement = step * a\n",
    "        w0 = w0 - ajustement\n",
    "        #print(w0)\n",
    "\n",
    "        # update slope\n",
    "        b = (X * predict_error).sum()\n",
    "        #print(b)\n",
    "        ajustement = step * b\n",
    "        w1 = w1 -ajustement\n",
    "        #print(w1)\n",
    "        L.append(w0)\n",
    "        L.append(w1)\n",
    "        \n",
    "        magnetude = math.sqrt(a**2 + b**2)\n",
    "        #print(magnetude)\n",
    "        if(magnetude < tolerance):\n",
    "            #print('papa')\n",
    "            prediction = L[0] + L[1]*X\n",
    "            plt.scatter(X,Y)\n",
    "            plt.plot(X,prediction)\n",
    "            break\n",
    "    return L.copy()"
   ]
  },
  {
   "cell_type": "code",
   "execution_count": 172,
   "metadata": {},
   "outputs": [
    {
     "name": "stdout",
     "output_type": "stream",
     "text": [
      "[-0.9942069818917416, 4.997967918970868]\n"
     ]
    },
    {
     "data": {
      "image/png": "[encoded data removed]",
      "text/plain": [
       "<Figure size 432x288 with 1 Axes>"
      ]
     },
     "metadata": {
      "needs_background": "light"
     },
     "output_type": "display_data"
    }
   ],
   "source": [
    "print(Prediction())"
   ]
  }
 ],
 "metadata": {
  "kernelspec": {
   "display_name": "Python 3",
   "language": "python",
   "name": "python3"
  },
  "language_info": {
   "codemirror_mode": {
    "name": "ipython",
    "version": 3
   },
   "file_extension": ".py",
   "mimetype": "text/x-python",
   "name": "python",
   "nbconvert_exporter": "python",
   "pygments_lexer": "ipython3",
   "version": "3.7.3"
  }
 },
 "nbformat": 4,
 "nbformat_minor": 2
}
