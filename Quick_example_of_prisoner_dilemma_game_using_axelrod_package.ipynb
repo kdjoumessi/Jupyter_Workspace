{
 "cells": [
  {
   "cell_type": "code",
   "execution_count": 8,
   "metadata": {},
   "outputs": [],
   "source": [
    "import axelrod as axl"
   ]
  },
  {
   "cell_type": "code",
   "execution_count": 14,
   "metadata": {},
   "outputs": [],
   "source": [
    "def game():\n",
    "    # strategy : cooperate the round and defect all the next round\n",
    "    strategies_list = []\n",
    "    while(True):\n",
    "        try : \n",
    "            n = input(\"Enter the number of round \")\n",
    "            n = int(n)\n",
    "            break\n",
    "        except:\n",
    "            print(\"Entre a real value \")\n",
    "    j = 0    \n",
    "    if(n<1):\n",
    "        print(\"error value \")\n",
    "        return\n",
    "    \n",
    "    for i in range(n):\n",
    "        if(i==j): \n",
    "            computer = axl.Cooperator()\n",
    "            print(\"Computer play \",axl.Action.C)\n",
    "            \n",
    "        else :\n",
    "            computer = axl.Defector()\n",
    "            print(\"Computer play \",axl.Action.D)\n",
    "            \n",
    "        while(True):\n",
    "            player_strategy = input(\"Enter your strategy : D or C \")\n",
    "            if(player_strategy == \"C\"): \n",
    "                print(\"Player play \",axl.Action.C)\n",
    "                player = axl.Cooperator()\n",
    "                break\n",
    "            elif(player_strategy == \"D\"):\n",
    "                print(\"Player play \",axl.Action.D)\n",
    "                player = axl.Defector()\n",
    "                break\n",
    "            else :\n",
    "                print(\"please select a strategy between D or C \")\n",
    "                \n",
    "        computer.play(player)\n",
    "        strategies_list.append(computer.play(player))\n",
    "    \n",
    "    print(\"All computer strategy \", computer.history)\n",
    "    print(\"All computer strategy \", player.history)\n",
    "    print(\"All history game \", strategies_list)"
   ]
  },
  {
   "cell_type": "code",
   "execution_count": 15,
   "metadata": {},
   "outputs": [
    {
     "name": "stdout",
     "output_type": "stream",
     "text": [
      "Entre a real value \n",
      "Enter the number of round a\n",
      "Entre a real value \n",
      "Enter the number of round 0\n",
      "error value \n"
     ]
    }
   ],
   "source": [
    "game()"
   ]
  },
  {
   "cell_type": "code",
   "execution_count": null,
   "metadata": {},
   "outputs": [],
   "source": []
  }
 ],
 "metadata": {
  "kernelspec": {
   "display_name": "Python 3",
   "language": "python",
   "name": "python3"
  },
  "language_info": {
   "codemirror_mode": {
    "name": "ipython",
    "version": 3
   },
   "file_extension": ".py",
   "mimetype": "text/x-python",
   "name": "python",
   "nbconvert_exporter": "python",
   "pygments_lexer": "ipython3",
   "version": "3.7.3"
  }
 },
 "nbformat": 4,
 "nbformat_minor": 2
}
